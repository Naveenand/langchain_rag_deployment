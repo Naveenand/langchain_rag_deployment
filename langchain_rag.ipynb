{
 "cells": [
  {
   "cell_type": "code",
   "execution_count": null,
   "metadata": {},
   "outputs": [],
   "source": [
    "%pip install langchain-core langchain-openai langchain-exa"
   ]
  },
  {
   "cell_type": "code",
   "execution_count": 2,
   "metadata": {},
   "outputs": [],
   "source": [
    "import getpass\n",
    "import os\n",
    "\n",
    "# Get API keys securely using getpass\n",
    "openai_api_key = getpass.getpass(prompt=\"Enter your OPENAI_API_KEY: \")\n",
    "exa_api_key = getpass.getpass(prompt=\"Enter your EXA_API_KEY: \")\n",
    "langsmith_api_key = getpass.getpass(prompt =\"Enter your langsmith api Key\" )\n",
    "# Set environment variables\n",
    "os.environ[\"OPENAI_API_KEY\"] = openai_api_key\n",
    "os.environ[\"EXA_API_KEY\"] = exa_api_key\n",
    "os.environ[\"LANGCHAIN_API_KEY\"] = langsmith_api_key"
   ]
  },
  {
   "cell_type": "code",
   "execution_count": 3,
   "metadata": {},
   "outputs": [],
   "source": [
    "os.environ[\"LANGCHAIN_TRACING_V2\"] = \"true\"\n",
    "os.environ[\"LANGCHAIN_PROJECT\"] = \"test-default\""
   ]
  },
  {
   "cell_type": "code",
   "execution_count": 4,
   "metadata": {},
   "outputs": [],
   "source": [
    "from langchain_exa import ExaSearchRetriever\n",
    "\n",
    "retriever = ExaSearchRetriever(k=3, highlights=True)\n",
    "documents = retriever.invoke(\"what is latest breakthrough in AI\")"
   ]
  },
  {
   "cell_type": "code",
   "execution_count": 5,
   "metadata": {},
   "outputs": [
    {
     "name": "stdout",
     "output_type": "stream",
     "text": [
      "['Big data is speeding up the AI development process, and we may be seeing more integration of AI technology in our everyday lives relatively soon. While much of this technology is still fairly rudimentary at the moment, we can expect sophisticated AI to one day significantly impact our everyday lives. Here are 6 ways AI might affect us in the future.    ']\n"
     ]
    }
   ],
   "source": [
    "print(documents[0].metadata[\"highlights\"])"
   ]
  },
  {
   "cell_type": "code",
   "execution_count": 6,
   "metadata": {},
   "outputs": [
    {
     "name": "stdout",
     "output_type": "stream",
     "text": [
      "http://ai2080.blogspot.com/2018/02/next-generation-technology.html\n"
     ]
    }
   ],
   "source": [
    "print(documents[0].metadata[\"url\"])"
   ]
  },
  {
   "cell_type": "code",
   "execution_count": 7,
   "metadata": {},
   "outputs": [
    {
     "name": "stdout",
     "output_type": "stream",
     "text": [
      "\n",
      "<source>\n",
      "    <url>http://ai2080.blogspot.com/2018/02/next-generation-technology.html</url>\n",
      "    <highlights>['Big data is speeding up the AI development process, and we may be seeing more integration of AI technology in our everyday lives relatively soon. While much of this technology is still fairly rudimentary at the moment, we can expect sophisticated AI to one day significantly impact our everyday lives. Here are 6 ways AI might affect us in the future.    ']</highlights>\n",
      "</source>\n",
      "\n",
      "\n",
      "<source>\n",
      "    <url>https://ai-latest-technology.blogspot.com/</url>\n",
      "    <highlights>['This blog is about Latest technology, AI and Machine learning. AI, machine learning and deep learning are getting involved in our day-to-day life. AI is improving our business, safety and comfort from mobile to automobile. AI technology, Bigdata, machine learning, deep learning, data science and data mining are starting the new era of technology.']</highlights>\n",
      "</source>\n",
      "\n",
      "\n",
      "<source>\n",
      "    <url>https://learnaionlineatoz.blogspot.com/search/label/AI%20news</url>\n",
      "    <highlights>[\"If you wanna know\\xa0 more about AI \\xa0and be updated an AI trends you can follow me on- Pintrest Instagram Tumblr When a syringe wielding drill their tried sticking up a home spot near Yankee Stadium,police figured out quickly that it wasn't a one-off. A man had also used syringe a few weeks earlier while stealing a drill at another home depot 11 km south in Manhattan. The match,though,wasn't made by an officer looking through files. It was done by pattern-recognition computer software developed by the New York Police Deparment. The software ,dubbed Paternizr, allow crime analysts stationed in each of the department's 77 precincts t compare robberies, larcenies and thefts t hundreds of thousands of crimes logged in the NYPD's database, transforming their hunt for crime pat\"]</highlights>\n",
      "</source>\n",
      "\n"
     ]
    }
   ],
   "source": [
    "from langchain_exa import ExaSearchRetriever\n",
    "from langchain_core.prompts import PromptTemplate\n",
    "from langchain_core.runnables import RunnableLambda\n",
    "\n",
    "\n",
    "retriever = ExaSearchRetriever(k=3, highlights=True)\n",
    "\n",
    "document_prompt = PromptTemplate.from_template(\"\"\"\n",
    "<source>\n",
    "    <url>{url}</url>\n",
    "    <highlights>{highlights}</highlights>\n",
    "</source>\n",
    "\"\"\")\n",
    "\n",
    "document_chain = RunnableLambda(\n",
    "    lambda document: {\n",
    "        \"highlights\": document.metadata[\"highlights\"], \n",
    "        \"url\": document.metadata[\"url\"]\n",
    "    }\n",
    ") | document_prompt\n",
    "\n",
    "retrieval_chain = retriever | document_chain.map() | (lambda docs: \"\\n\".join([i.text for i in docs]))\n",
    "\n",
    "print(retrieval_chain.invoke(\"what is latest breakthrough in AI\"))"
   ]
  },
  {
   "cell_type": "code",
   "execution_count": 8,
   "metadata": {},
   "outputs": [],
   "source": [
    "from langchain_core.runnables import RunnablePassthrough, RunnableParallel\n",
    "from langchain_core.prompts import ChatPromptTemplate\n",
    "from langchain_openai import ChatOpenAI\n",
    "\n",
    "generation_prompt = ChatPromptTemplate.from_messages([\n",
    "    (\"system\", \"You are an expert research assistant. You use xml-formatted context to research people's questions.\"),\n",
    "    (\"human\", \"\"\"\n",
    "Please answer the following query based on the provided context. Please cite your sources at the end of your response.:\n",
    "     \n",
    "Query: {query}\n",
    "---\n",
    "<context>\n",
    "{context}\n",
    "</context>\n",
    "\"\"\")\n",
    "])\n",
    "\n",
    "llm = ChatOpenAI()\n",
    "\n",
    "chain = RunnableParallel({\n",
    "    \"query\": RunnablePassthrough(),\n",
    "    \"context\": retrieval_chain,\n",
    "}) | generation_prompt | llm"
   ]
  },
  {
   "cell_type": "code",
   "execution_count": 10,
   "metadata": {},
   "outputs": [
    {
     "data": {
      "text/plain": [
       "AIMessage(content='The latest breakthrough in AI involves the increasing integration of AI technology into our everyday lives. This includes advancements in areas such as business, safety, and comfort, from mobile devices to automobiles. Big data is playing a significant role in speeding up the development process of AI, paving the way for more sophisticated AI applications that will eventually have a significant impact on our daily lives.\\n\\nSources:\\n1. AI Latest Technology Blog: https://ai-latest-technology.blogspot.com/\\n2. AI 2080 Blog: http://ai2080.blogspot.com/2018/02/next-generation-technology.html')"
      ]
     },
     "execution_count": 10,
     "metadata": {},
     "output_type": "execute_result"
    }
   ],
   "source": [
    "chain.invoke(\"what is latest breakthrough in AI\")"
   ]
  },
  {
   "cell_type": "code",
   "execution_count": null,
   "metadata": {},
   "outputs": [],
   "source": []
  }
 ],
 "metadata": {
  "kernelspec": {
   "display_name": "Python 3",
   "language": "python",
   "name": "python3"
  },
  "language_info": {
   "codemirror_mode": {
    "name": "ipython",
    "version": 3
   },
   "file_extension": ".py",
   "mimetype": "text/x-python",
   "name": "python",
   "nbconvert_exporter": "python",
   "pygments_lexer": "ipython3",
   "version": "3.11.8"
  }
 },
 "nbformat": 4,
 "nbformat_minor": 2
}
